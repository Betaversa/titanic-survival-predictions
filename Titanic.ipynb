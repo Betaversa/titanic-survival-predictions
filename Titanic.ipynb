{
  "nbformat": 4,
  "nbformat_minor": 0,
  "metadata": {
    "colab": {
      "provenance": [],
      "authorship_tag": "ABX9TyP2TJQJ5/pq/0gUjaNCMZhl",
      "include_colab_link": true
    },
    "kernelspec": {
      "name": "python3",
      "display_name": "Python 3"
    },
    "language_info": {
      "name": "python"
    }
  },
  "cells": [
    {
      "cell_type": "markdown",
      "metadata": {
        "id": "view-in-github",
        "colab_type": "text"
      },
      "source": [
        "<a href=\"https://colab.research.google.com/github/Betaversa/titanic-survival-predictions/blob/main/Titanic.ipynb\" target=\"_parent\"><img src=\"https://colab.research.google.com/assets/colab-badge.svg\" alt=\"Open In Colab\"/></a>"
      ]
    },
    {
      "cell_type": "code",
      "execution_count": null,
      "metadata": {
        "id": "kq0uH-YMNGp5"
      },
      "outputs": [],
      "source": []
    },
    {
      "cell_type": "markdown",
      "source": [
        "# Predicción de Supervivencia en el Titanic 🚢\n",
        "\n",
        "Este proyecto utiliza el famoso dataset del Titanic para predecir qué pasajeros habrían sobrevivido basándose en características como:\n",
        "- Clase del pasajero (1ª, 2ª o 3ª clase)\n",
        "- Género\n",
        "- Edad\n",
        "- Número de familiares a bordo, entre otros.\n",
        "\n",
        "## Objetivo\n",
        "El objetivo principal es construir un modelo de Machine Learning que pueda predecir la supervivencia de los pasajeros con base en los datos disponibles.\n",
        "\n",
        "## Pasos Realizados\n",
        "1. **Análisis Exploratorio de Datos (EDA):** Generar visualizaciones para entender mejor los patrones de supervivencia.\n",
        "2. **Entrenamiento del Modelo:** Entrenar un modelo de machine learning (como Decision Trees o Random Forest) para realizar predicciones.\n",
        "3. **Evaluación:** Calcular métricas como la precisión del modelo para evaluar su desempeño.\n",
        "\n",
        "---\n"
      ],
      "metadata": {
        "id": "pQjOwT0TOqA-"
      }
    }
  ]
}